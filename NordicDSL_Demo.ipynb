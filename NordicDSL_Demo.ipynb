{
  "nbformat": 4,
  "nbformat_minor": 0,
  "metadata": {
    "colab": {
      "name": "NordicDSL-Demo.ipynb",
      "provenance": [],
      "collapsed_sections": []
    },
    "kernelspec": {
      "name": "python3",
      "display_name": "Python 3"
    },
    "accelerator": "GPU"
  },
  "cells": [
    {
      "cell_type": "markdown",
      "metadata": {
        "id": "GwUvanZRgIDD",
        "colab_type": "text"
      },
      "source": [
        "Connect to Google Drive"
      ]
    },
    {
      "cell_type": "code",
      "metadata": {
        "id": "M1VaDyaWdSpY",
        "colab_type": "code",
        "colab": {
          "base_uri": "https://localhost:8080/",
          "height": 436
        },
        "outputId": "6799b3a7-99b0-4e5e-e306-734e8a8190f9"
      },
      "source": [
        "from google.colab import drive\n",
        "drive.mount('/content/gdrive', force_remount = True)\n",
        "# !nvidia-smi\n",
        "gdrive_path  = \"gdrive/My Drive/\"\n",
        "%cd {gdrive_path}"
      ],
      "execution_count": 1,
      "outputs": [
        {
          "output_type": "stream",
          "text": [
            "Go to this URL in a browser: https://accounts.google.com/o/oauth2/auth?client_id=947318989803-6bn6qk8qdgf4n4g3pfee6491hc0brc4i.apps.googleusercontent.com&redirect_uri=urn%3aietf%3awg%3aoauth%3a2.0%3aoob&response_type=code&scope=email%20https%3a%2f%2fwww.googleapis.com%2fauth%2fdocs.test%20https%3a%2f%2fwww.googleapis.com%2fauth%2fdrive%20https%3a%2f%2fwww.googleapis.com%2fauth%2fdrive.photos.readonly%20https%3a%2f%2fwww.googleapis.com%2fauth%2fpeopleapi.readonly\n",
            "\n",
            "Enter your authorization code:\n",
            "··········\n",
            "Mounted at /content/gdrive\n",
            "/content/gdrive/My Drive\n",
            "fatal: destination path 'NordicDSL' already exists and is not an empty directory.\n",
            "/content/gdrive/My Drive/NordicDSL/src\n",
            "remote: Enumerating objects: 8, done.\u001b[K\n",
            "remote: Counting objects: 100% (8/8), done.\u001b[K\n",
            "remote: Compressing objects: 100% (2/2), done.\u001b[K\n",
            "remote: Total 5 (delta 3), reused 5 (delta 3), pack-reused 0\u001b[K\n",
            "Unpacking objects: 100% (5/5), done.\n",
            "From https://github.com/renhaa/NordicDSL\n",
            "   9ac9e05..14bff1b  master     -> origin/master\n",
            "Updating 9ac9e05..14bff1b\n",
            "Fast-forward\n",
            " src/Makefile         | 3 \u001b[32m+++\u001b[m\n",
            " src/download_data.sh | 4 \u001b[32m++++\u001b[m\n",
            " 2 files changed, 7 insertions(+)\n",
            " create mode 100644 src/download_data.sh\n"
          ],
          "name": "stdout"
        }
      ]
    },
    {
      "cell_type": "markdown",
      "metadata": {
        "id": "mgjfttaMgPDt",
        "colab_type": "text"
      },
      "source": [
        "# Clone and update NorcidDSL"
      ]
    },
    {
      "cell_type": "code",
      "metadata": {
        "id": "-zneGKffh-fj",
        "colab_type": "code",
        "colab": {
          "base_uri": "https://localhost:8080/",
          "height": 740
        },
        "outputId": "ce459273-8019-4cc7-9fec-68d5a63612c5"
      },
      "source": [
        "# USER = \"renhaa\"\n",
        "# PASSWORD = \"secret\"\n",
        "!git clone https://github.com/renhaa/NordicDSL.git\n",
        "%cd NordicDSL/src/\n",
        "!git pull"
      ],
      "execution_count": 2,
      "outputs": [
        {
          "output_type": "stream",
          "text": [
            "pip3 install -r requirements.txt \n",
            "Collecting fasttext>=0.9.2\n",
            "\u001b[?25l  Downloading https://files.pythonhosted.org/packages/f8/85/e2b368ab6d3528827b147fdb814f8189acc981a4bc2f99ab894650e05c40/fasttext-0.9.2.tar.gz (68kB)\n",
            "\u001b[K     |████████████████████████████████| 71kB 3.6MB/s \n",
            "\u001b[?25hRequirement already satisfied: pandas in /usr/local/lib/python3.6/dist-packages (from -r requirements.txt (line 2)) (1.0.5)\n",
            "Requirement already satisfied: nltk in /usr/local/lib/python3.6/dist-packages (from -r requirements.txt (line 3)) (3.2.5)\n",
            "Requirement already satisfied: sklearn in /usr/local/lib/python3.6/dist-packages (from -r requirements.txt (line 4)) (0.0)\n",
            "Requirement already satisfied: pybind11>=2.2 in /usr/local/lib/python3.6/dist-packages (from fasttext>=0.9.2->-r requirements.txt (line 1)) (2.5.0)\n",
            "Requirement already satisfied: setuptools>=0.7.0 in /usr/local/lib/python3.6/dist-packages (from fasttext>=0.9.2->-r requirements.txt (line 1)) (49.1.0)\n",
            "Requirement already satisfied: numpy in /usr/local/lib/python3.6/dist-packages (from fasttext>=0.9.2->-r requirements.txt (line 1)) (1.18.5)\n",
            "Requirement already satisfied: python-dateutil>=2.6.1 in /usr/local/lib/python3.6/dist-packages (from pandas->-r requirements.txt (line 2)) (2.8.1)\n",
            "Requirement already satisfied: pytz>=2017.2 in /usr/local/lib/python3.6/dist-packages (from pandas->-r requirements.txt (line 2)) (2018.9)\n",
            "Requirement already satisfied: six in /usr/local/lib/python3.6/dist-packages (from nltk->-r requirements.txt (line 3)) (1.12.0)\n",
            "Requirement already satisfied: scikit-learn in /usr/local/lib/python3.6/dist-packages (from sklearn->-r requirements.txt (line 4)) (0.22.2.post1)\n",
            "Requirement already satisfied: joblib>=0.11 in /usr/local/lib/python3.6/dist-packages (from scikit-learn->sklearn->-r requirements.txt (line 4)) (0.16.0)\n",
            "Requirement already satisfied: scipy>=0.17.0 in /usr/local/lib/python3.6/dist-packages (from scikit-learn->sklearn->-r requirements.txt (line 4)) (1.4.1)\n",
            "Building wheels for collected packages: fasttext\n",
            "  Building wheel for fasttext (setup.py) ... \u001b[?25l\u001b[?25hdone\n",
            "  Created wheel for fasttext: filename=fasttext-0.9.2-cp36-cp36m-linux_x86_64.whl size=3015854 sha256=4f56a5a8d1a8e70f935d872b1b50118d2ab12b57317fb1f8f7326af2afc721ae\n",
            "  Stored in directory: /root/.cache/pip/wheels/98/ba/7f/b154944a1cf5a8cee91c154b75231136cc3a3321ab0e30f592\n",
            "Successfully built fasttext\n",
            "Installing collected packages: fasttext\n",
            "Successfully installed fasttext-0.9.2\n",
            "python3 preprocess.py ../data/raw_data/wikipedia/ ../data/wikipedia/\n",
            "[nltk_data] Downloading package punkt to /root/nltk_data...\n",
            "[nltk_data]   Unzipping tokenizers/punkt.zip.\n",
            "Traceback (most recent call last):\n",
            "  File \"preprocess.py\", line 106, in <module>\n",
            "    preprocess(args.src_dir, args.out_dir)\n",
            "  File \"preprocess.py\", line 81, in preprocess\n",
            "    test_size=0.05)\n",
            "  File \"/usr/local/lib/python3.6/dist-packages/sklearn/model_selection/_split.py\", line 2122, in train_test_split\n",
            "    default_test_size=0.25)\n",
            "  File \"/usr/local/lib/python3.6/dist-packages/sklearn/model_selection/_split.py\", line 1805, in _validate_shuffle_split\n",
            "    train_size)\n",
            "ValueError: With n_samples=0, test_size=0.05 and train_size=None, the resulting train set will be empty. Adjust any of the aforementioned parameters.\n",
            "Makefile:10: recipe for target 'preprocess' failed\n",
            "make: *** [preprocess] Error 1\n"
          ],
          "name": "stdout"
        }
      ]
    },
    {
      "cell_type": "markdown",
      "metadata": {
        "id": "hQByeLragYYZ",
        "colab_type": "text"
      },
      "source": [
        "# Run code"
      ]
    },
    {
      "cell_type": "code",
      "metadata": {
        "id": "Q8LZOsBagW99",
        "colab_type": "code",
        "colab": {
          "base_uri": "https://localhost:8080/",
          "height": 427
        },
        "outputId": "8f3fea78-29a4-4ad7-f169-8286ab9bc556"
      },
      "source": [
        "!make"
      ],
      "execution_count": null,
      "outputs": [
        {
          "output_type": "stream",
          "text": [
            "pip3 install -r requirements.txt \n",
            "Requirement already satisfied: fasttext>=0.9.2 in /usr/local/lib/python3.6/dist-packages (from -r requirements.txt (line 1)) (0.9.2)\n",
            "Requirement already satisfied: pandas in /usr/local/lib/python3.6/dist-packages (from -r requirements.txt (line 2)) (1.0.5)\n",
            "Requirement already satisfied: nltk in /usr/local/lib/python3.6/dist-packages (from -r requirements.txt (line 3)) (3.2.5)\n",
            "Requirement already satisfied: sklearn in /usr/local/lib/python3.6/dist-packages (from -r requirements.txt (line 4)) (0.0)\n",
            "Requirement already satisfied: numpy in /usr/local/lib/python3.6/dist-packages (from fasttext>=0.9.2->-r requirements.txt (line 1)) (1.18.5)\n",
            "Requirement already satisfied: setuptools>=0.7.0 in /usr/local/lib/python3.6/dist-packages (from fasttext>=0.9.2->-r requirements.txt (line 1)) (49.1.0)\n",
            "Requirement already satisfied: pybind11>=2.2 in /usr/local/lib/python3.6/dist-packages (from fasttext>=0.9.2->-r requirements.txt (line 1)) (2.5.0)\n",
            "Requirement already satisfied: python-dateutil>=2.6.1 in /usr/local/lib/python3.6/dist-packages (from pandas->-r requirements.txt (line 2)) (2.8.1)\n",
            "Requirement already satisfied: pytz>=2017.2 in /usr/local/lib/python3.6/dist-packages (from pandas->-r requirements.txt (line 2)) (2018.9)\n",
            "Requirement already satisfied: six in /usr/local/lib/python3.6/dist-packages (from nltk->-r requirements.txt (line 3)) (1.12.0)\n",
            "Requirement already satisfied: scikit-learn in /usr/local/lib/python3.6/dist-packages (from sklearn->-r requirements.txt (line 4)) (0.22.2.post1)\n",
            "Requirement already satisfied: joblib>=0.11 in /usr/local/lib/python3.6/dist-packages (from scikit-learn->sklearn->-r requirements.txt (line 4)) (0.16.0)\n",
            "Requirement already satisfied: scipy>=0.17.0 in /usr/local/lib/python3.6/dist-packages (from scikit-learn->sklearn->-r requirements.txt (line 4)) (1.4.1)\n",
            "python3 preprocess.py ../data/raw_data/wikipedia/ ../data/wikipedia/\n",
            "[nltk_data] Downloading package punkt to /root/nltk_data...\n",
            "[nltk_data]   Package punkt is already up-to-date!\n",
            "Now doing  dk\n",
            "Now doing  nb\n",
            "python3 train_fasttext_supervised.py ../data/wikipedia/ \n"
          ],
          "name": "stdout"
        }
      ]
    }
  ]
}